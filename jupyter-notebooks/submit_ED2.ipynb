{
  "nbformat": 4,
  "nbformat_minor": 0,
  "metadata": {
    "colab": {
      "provenance": []
    },
    "kernelspec": {
      "name": "python3",
      "display_name": "Python 3"
    },
    "language_info": {
      "name": "python"
    }
  },
  "cells": [
    {
      "cell_type": "markdown",
      "source": [
        "**Run ED2 jobs on HPC Clusters**\n",
        "\n",
        "This is for tonzi, harvest and umbs. There is a separate notebook for santarem job.[link text](https://)"
      ],
      "metadata": {
        "id": "HjCnosfaFWET"
      }
    },
    {
      "cell_type": "code",
      "source": [
        "!pip install parsl"
      ],
      "metadata": {
        "colab": {
          "base_uri": "https://localhost:8080/"
        },
        "id": "aDmEWk-Fu6U_",
        "outputId": "4e1ff617-fea6-4062-da14-dc95764a57de"
      },
      "execution_count": null,
      "outputs": [
        {
          "output_type": "stream",
          "name": "stdout",
          "text": [
            "Collecting parsl\n",
            "  Downloading parsl-2023.10.23-py3-none-any.whl (466 kB)\n",
            "\u001b[?25l     \u001b[90m━━━━━━━━━━━━━━━━━━━━━━━━━━━━━━━━━━━━━━━━\u001b[0m \u001b[32m0.0/466.4 kB\u001b[0m \u001b[31m?\u001b[0m eta \u001b[36m-:--:--\u001b[0m\r\u001b[2K     \u001b[91m━━━━━━━━━━\u001b[0m\u001b[91m╸\u001b[0m\u001b[90m━━━━━━━━━━━━━━━━━━━━━━━━━━━━━\u001b[0m \u001b[32m122.9/466.4 kB\u001b[0m \u001b[31m3.5 MB/s\u001b[0m eta \u001b[36m0:00:01\u001b[0m\r\u001b[2K     \u001b[90m━━━━━━━━━━━━━━━━━━━━━━━━━━━━━━━━━━━━━━━━\u001b[0m \u001b[32m466.4/466.4 kB\u001b[0m \u001b[31m7.6 MB/s\u001b[0m eta \u001b[36m0:00:00\u001b[0m\n",
            "\u001b[?25hRequirement already satisfied: pyzmq>=17.1.2 in /usr/local/lib/python3.10/dist-packages (from parsl) (23.2.1)\n",
            "Collecting typeguard<3,>=2.10 (from parsl)\n",
            "  Downloading typeguard-2.13.3-py3-none-any.whl (17 kB)\n",
            "Collecting typing-extensions<5,>=4.6 (from parsl)\n",
            "  Downloading typing_extensions-4.8.0-py3-none-any.whl (31 kB)\n",
            "Requirement already satisfied: six in /usr/local/lib/python3.10/dist-packages (from parsl) (1.16.0)\n",
            "Collecting globus-sdk (from parsl)\n",
            "  Downloading globus_sdk-3.29.0-py3-none-any.whl (263 kB)\n",
            "\u001b[2K     \u001b[90m━━━━━━━━━━━━━━━━━━━━━━━━━━━━━━━━━━━━━━━━\u001b[0m \u001b[32m264.0/264.0 kB\u001b[0m \u001b[31m15.1 MB/s\u001b[0m eta \u001b[36m0:00:00\u001b[0m\n",
            "\u001b[?25hCollecting dill (from parsl)\n",
            "  Downloading dill-0.3.7-py3-none-any.whl (115 kB)\n",
            "\u001b[2K     \u001b[90m━━━━━━━━━━━━━━━━━━━━━━━━━━━━━━━━━━━━━━━━\u001b[0m \u001b[32m115.3/115.3 kB\u001b[0m \u001b[31m6.2 MB/s\u001b[0m eta \u001b[36m0:00:00\u001b[0m\n",
            "\u001b[?25hRequirement already satisfied: tblib in /usr/local/lib/python3.10/dist-packages (from parsl) (2.0.0)\n",
            "Requirement already satisfied: requests in /usr/local/lib/python3.10/dist-packages (from parsl) (2.31.0)\n",
            "Collecting paramiko (from parsl)\n",
            "  Downloading paramiko-3.3.1-py3-none-any.whl (224 kB)\n",
            "\u001b[2K     \u001b[90m━━━━━━━━━━━━━━━━━━━━━━━━━━━━━━━━━━━━━━━━\u001b[0m \u001b[32m224.8/224.8 kB\u001b[0m \u001b[31m19.2 MB/s\u001b[0m eta \u001b[36m0:00:00\u001b[0m\n",
            "\u001b[?25hRequirement already satisfied: psutil>=5.5.1 in /usr/local/lib/python3.10/dist-packages (from parsl) (5.9.5)\n",
            "Collecting setproctitle (from parsl)\n",
            "  Downloading setproctitle-1.3.3-cp310-cp310-manylinux_2_5_x86_64.manylinux1_x86_64.manylinux_2_17_x86_64.manylinux2014_x86_64.whl (30 kB)\n",
            "Requirement already satisfied: pyjwt[crypto]<3.0.0,>=2.0.0 in /usr/lib/python3/dist-packages (from globus-sdk->parsl) (2.3.0)\n",
            "Requirement already satisfied: cryptography!=3.4.0,>=3.3.1 in /usr/local/lib/python3.10/dist-packages (from globus-sdk->parsl) (41.0.4)\n",
            "Requirement already satisfied: charset-normalizer<4,>=2 in /usr/local/lib/python3.10/dist-packages (from requests->parsl) (3.3.0)\n",
            "Requirement already satisfied: idna<4,>=2.5 in /usr/local/lib/python3.10/dist-packages (from requests->parsl) (3.4)\n",
            "Requirement already satisfied: urllib3<3,>=1.21.1 in /usr/local/lib/python3.10/dist-packages (from requests->parsl) (2.0.7)\n",
            "Requirement already satisfied: certifi>=2017.4.17 in /usr/local/lib/python3.10/dist-packages (from requests->parsl) (2023.7.22)\n",
            "Collecting bcrypt>=3.2 (from paramiko->parsl)\n",
            "  Downloading bcrypt-4.0.1-cp36-abi3-manylinux_2_28_x86_64.whl (593 kB)\n",
            "\u001b[2K     \u001b[90m━━━━━━━━━━━━━━━━━━━━━━━━━━━━━━━━━━━━━━━━\u001b[0m \u001b[32m593.7/593.7 kB\u001b[0m \u001b[31m16.4 MB/s\u001b[0m eta \u001b[36m0:00:00\u001b[0m\n",
            "\u001b[?25hCollecting pynacl>=1.5 (from paramiko->parsl)\n",
            "  Downloading PyNaCl-1.5.0-cp36-abi3-manylinux_2_17_x86_64.manylinux2014_x86_64.manylinux_2_24_x86_64.whl (856 kB)\n",
            "\u001b[2K     \u001b[90m━━━━━━━━━━━━━━━━━━━━━━━━━━━━━━━━━━━━━━━━\u001b[0m \u001b[32m856.7/856.7 kB\u001b[0m \u001b[31m37.1 MB/s\u001b[0m eta \u001b[36m0:00:00\u001b[0m\n",
            "\u001b[?25hRequirement already satisfied: cffi>=1.12 in /usr/local/lib/python3.10/dist-packages (from cryptography!=3.4.0,>=3.3.1->globus-sdk->parsl) (1.16.0)\n",
            "Requirement already satisfied: pycparser in /usr/local/lib/python3.10/dist-packages (from cffi>=1.12->cryptography!=3.4.0,>=3.3.1->globus-sdk->parsl) (2.21)\n",
            "Installing collected packages: typing-extensions, typeguard, setproctitle, dill, bcrypt, pynacl, paramiko, globus-sdk, parsl\n",
            "  Attempting uninstall: typing-extensions\n",
            "    Found existing installation: typing_extensions 4.5.0\n",
            "    Uninstalling typing_extensions-4.5.0:\n",
            "      Successfully uninstalled typing_extensions-4.5.0\n",
            "\u001b[31mERROR: pip's dependency resolver does not currently take into account all the packages that are installed. This behaviour is the source of the following dependency conflicts.\n",
            "tensorflow-probability 0.22.0 requires typing-extensions<4.6.0, but you have typing-extensions 4.8.0 which is incompatible.\u001b[0m\u001b[31m\n",
            "\u001b[0mSuccessfully installed bcrypt-4.0.1 dill-0.3.7 globus-sdk-3.29.0 paramiko-3.3.1 parsl-2023.10.23 pynacl-1.5.0 setproctitle-1.3.3 typeguard-2.13.3 typing-extensions-4.8.0\n"
          ]
        }
      ]
    },
    {
      "cell_type": "code",
      "source": [
        "import getpass\n",
        "import paramiko\n",
        "import stat\n",
        "import os\n",
        "from parsl.app.python import PythonApp"
      ],
      "metadata": {
        "id": "Zf3NQL6UA0sc"
      },
      "execution_count": null,
      "outputs": []
    },
    {
      "cell_type": "markdown",
      "source": [
        "Please provide the various input to run the job. Feel free to ignore the parameters if you wish to keep the default."
      ],
      "metadata": {
        "id": "AP15BzhxFrqK"
      }
    },
    {
      "cell_type": "code",
      "source": [
        "# Cluster details\n",
        "hostname = 'cc-login.campuscluster.illinois.edu' # the hostname of the cluster you want to run the ed2 model\n",
        "password = None\n",
        "username = \"ABCD\" # username on the cluster\n",
        "\n",
        "\n",
        "# Batch job details\n",
        "time = \"00:15:00\" # Job run time (hh:mm:ss)\n",
        "nodes = 1 # Number of nodes\n",
        "ntasks_per_node = 16             # Number of task (cores/ppn) per node\n",
        "job_name = \"ED2IN-umbs.bg\"           # Name of batch job\n",
        "partition = \"secondary\"            # Partition (queue)\n",
        "output = \"openmp_umbs.o%j\"              # Name of batch job output file\n",
        "error = \"openmp_umbs.e%j\"               # Name of batch job error file\n",
        "mail_user = \"NetID@illinois.edu\"  # Send email notifications\n",
        "mail_type = \"BEGIN,END\"           # Type of email notifications to send\n",
        "\n",
        "\n",
        "# Path to various inputs\n",
        "path_to_data = \"${HOME}/ed-demo\" #path to data for ED2 on cluster\n",
        "path_to_singularity_image = \"${HOME}/ed2-intel.sif\" # path to singularity image of ED2 model on cluster\n",
        "path_to_ED2IN_file = \"ED2IN-umbs.bg\" # path to ED2IN file on cluster, relative path to path_to_data is okay"
      ],
      "metadata": {
        "id": "ArVdnJqbBoTC"
      },
      "execution_count": 1,
      "outputs": []
    },
    {
      "cell_type": "code",
      "execution_count": 18,
      "metadata": {
        "colab": {
          "base_uri": "https://localhost:8080/"
        },
        "id": "3j6LbGTUR-XB",
        "outputId": "249a579d-eb3e-47ed-b7ed-41fd4f5440cd"
      },
      "outputs": [
        {
          "output_type": "stream",
          "name": "stdout",
          "text": [
            "Enter cc-login.campuscluster.illinois.edu Logon password :··········\n",
            "Submitted batch job 9829951\n",
            "\n",
            "\n"
          ]
        }
      ],
      "source": [
        "@PythonApp\n",
        "def run_singularity(executable, singularity_image, args, stdout=None, stderr=None):\n",
        "    return f\"{executable} exec {singularity_image} {args}\"\n",
        "\n",
        "def submit_job(username):\n",
        "    ssh_client = paramiko.SSHClient()\n",
        "    ssh_client.load_system_host_keys()\n",
        "    ssh_client.set_missing_host_key_policy(paramiko.AutoAddPolicy())\n",
        "    try:\n",
        "        ssh_client.connect(hostname, username=username, password=password, allow_agent=True)\n",
        "        print(\"successfully connected\")\n",
        "    except:\n",
        "        pass\n",
        "    transport = ssh_client.get_transport()\n",
        "    transport.auth_password(username, getpass.getpass('Enter {0} Logon password :'.format(hostname)))\n",
        "    sftp_client = paramiko.SFTPClient.from_transport(transport)\n",
        "\n",
        "    # Run the .bat file which is alreday present on cluster\n",
        "    #_, stdo, stde = ssh_client.exec_command(command_line)\n",
        "    #print(stdo.read().decode())\n",
        "    #print(stde.read().decode())\n",
        "\n",
        "\n",
        "    #create the bat file\n",
        "    with open(job_name + \".sbatch\", 'w') as f:\n",
        "        f.writelines(\"#!/bin/bash\\n\")\n",
        "        f.writelines(\"#SBATCH --time=\" + str(time) + \"\\n\")\n",
        "        f.writelines(\"#SBATCH --ntasks-per-node=\" + str(ntasks_per_node) + \"\\n\")\n",
        "        f.writelines(\"#SBATCH --job-name=\" + job_name + \"\\n\")\n",
        "        f.writelines(\"#SBATCH --partition=\" + partition + \"\\n\")\n",
        "        f.writelines(\"#SBATCH --output=\" + output + \"\\n\")\n",
        "        f.writelines(\"#SBATCH --error=\" + error + \"\\n\")\n",
        "        f.writelines(\"#SBATCH --mail-user=\" + mail_user + \"\\n\")\n",
        "        f.writelines(\"#SBATCH --mail-type=\" + mail_type + \"\\n\")\n",
        "        f.writelines(\"\\n\")\n",
        "        f.writelines(\"module load singularity\" + \"\\n\")\n",
        "        f.writelines(\"singularity exec --bind \" + path_to_data + \":/data --no-home --pwd /data \" + path_to_singularity_image + \" ed2 -f \" + path_to_ED2IN_file)\n",
        "    f.close()\n",
        "\n",
        "    #transfer .bat file to cluster and run it\n",
        "    sftp_client.put(job_name + \".sbatch\", f\"/home/{username}/\" + job_name + \".sbatch\")\n",
        "    sftp_client.chmod(f\"/home/{username}/\" + job_name + \".sbatch\", stat.S_IRWXU)\n",
        "    _, stdo, stde = ssh_client.exec_command(\"sbatch \" + job_name + \".sbatch\")\n",
        "    print(stdo.read().decode())\n",
        "    print(stde.read().decode())\n",
        "\n",
        "    sftp_client.close()\n",
        "    ssh_client.close()\n",
        "    transport.close()\n",
        "\n",
        "submit_job(username)"
      ]
    }
  ]
}