{
 "cells": [
  {
   "cell_type": "code",
   "execution_count": 1,
   "metadata": {
    "colab": {
     "base_uri": "https://localhost:8080/",
     "height": 119
    },
    "id": "buXBbS2oBNCd",
    "jupyter": {
     "source_hidden": true
    },
    "outputId": "01b1150d-9899-4a90-c0ca-6e72b67df18f"
   },
   "outputs": [
    {
     "name": "stdout",
     "output_type": "stream",
     "text": [
      "no stored variable or alias hostname\n",
      "no stored variable or alias username\n",
      "no stored variable or alias job_id\n",
      "no stored variable or alias pkey\n"
     ]
    },
    {
     "data": {
      "application/vnd.jupyter.widget-view+json": {
       "model_id": "f2589f197d4b47d8aba407b16a1df1b6",
       "version_major": 2,
       "version_minor": 0
      },
      "text/plain": [
       "Accordion(children=(VBox(children=(Text(value='', description='Cluster:'), Text(value='', description='User na…"
      ]
     },
     "metadata": {},
     "output_type": "display_data"
    },
    {
     "data": {
      "application/vnd.jupyter.widget-view+json": {
       "model_id": "3047940a734e4a8f94dc55501ede45ad",
       "version_major": 2,
       "version_minor": 0
      },
      "text/plain": [
       "Output()"
      ]
     },
     "metadata": {},
     "output_type": "display_data"
    }
   ],
   "source": [
    "# @title Show job status\n",
    "#!pip install paramiko\n",
    "\n",
    "import ipywidgets as widgets\n",
    "from IPython.display import HTML, display, Javascript\n",
    "import getpass\n",
    "import paramiko\n",
    "import stat\n",
    "import os\n",
    "import time as timer\n",
    "import subprocess\n",
    "from urllib.parse import parse_qs\n",
    "import sys\n",
    "from urllib.parse import urlparse, parse_qs\n",
    "import requests\n",
    "\n",
    "hostname =\"\"\n",
    "username =\"\"\n",
    "job_id =\"\"\n",
    "pkey = \"\"\n",
    "%store -r hostname\n",
    "%store -r username\n",
    "%store -r job_id\n",
    "%store -r pkey\n",
    "\n",
    "cluster_input = widgets.Text(value=hostname, description=\"Cluster:\")\n",
    "username_input = widgets.Text(value=username, description=\"User name:\")\n",
    "user_password = widgets.Password(placeholder='Enter password',\n",
    "    description='Password:',\n",
    "    disabled=False\n",
    ")\n",
    "user_pkey = widgets.Text(value=pkey, placeholder='Enter path to private key',\n",
    "    description='Private key:',\n",
    "    disabled=False\n",
    ")\n",
    "job_id_input = widgets.Text(value=job_id, description=\"Enter job id:\")\n",
    "submit_button = widgets.Button(description=\"View Job status/output\")\n",
    "\n",
    "input_accordion = widgets.Accordion(children=[widgets.VBox([cluster_input, username_input, user_password, user_pkey, job_id_input, submit_button])])\n",
    "input_accordion.set_title(0, 'Enter details to see job status/output')\n",
    "display(input_accordion)\n",
    "\n",
    "# Output\n",
    "output = widgets.Output()\n",
    "display(output)\n",
    "\n",
    "# Function to be executed on button click\n",
    "@output.capture()\n",
    "def on_submit_button_click(button):\n",
    "  hostname = cluster_input.value\n",
    "  username = username_input.value\n",
    "  password = user_password.value\n",
    "  pkey = user_pkey.value\n",
    "  job_id = job_id_input.value\n",
    "  ssh_client = paramiko.SSHClient()\n",
    "  ssh_client.load_system_host_keys()\n",
    "  ssh_client.set_missing_host_key_policy(paramiko.AutoAddPolicy())\n",
    "  try:\n",
    "    if pkey != '':\n",
    "        print(\"Using private key provided\")\n",
    "        key = paramiko.pkey.PKey.from_path(pkey)\n",
    "        ssh_client.connect(hostname, username=username, pkey=key, allow_agent=True)\n",
    "    elif password != '':\n",
    "        print(\"Using password provided\")\n",
    "        ssh_client.connect(hostname, username=username, password=password, allow_agent=True)\n",
    "  except:\n",
    "      print(\"Unsuccessful authentication\")\n",
    "      pass\n",
    "  transport = ssh_client.get_transport()\n",
    "  #transport.auth_password(username, getpass.getpass('Enter {0} Logon password :'.format(hostname)))\n",
    "  sftp_client = paramiko.SFTPClient.from_transport(transport)\n",
    "\n",
    "\n",
    "  # job status\n",
    "  # Check the job status periodically\n",
    "  while True:\n",
    "    _, stdo, stde = ssh_client.exec_command(f\"squeue -u {username} -j {job_id}\")\n",
    "    job_status = stdo.read().decode()\n",
    "    print(job_status)\n",
    "\n",
    "    # Break the loop if the job is completed or failed\n",
    "    if job_id not in job_status:\n",
    "        break\n",
    "\n",
    "    # Wait for a few seconds before checking again\n",
    "    timer.sleep(10)\n",
    "\n",
    "  print(\"Output\")\n",
    "  # View output\n",
    "  _, stdo, stde = ssh_client.exec_command(f\"ls -l\")\n",
    "  print(stdo.read().decode())\n",
    "  print(stde.read().decode())\n",
    "\n",
    "  print(\"Output\")\n",
    "  # View output\n",
    "  _, stdo, stde = ssh_client.exec_command(f\"cat *.o{job_id}\")\n",
    "  print(stdo.read().decode())\n",
    "  print(stde.read().decode())\n",
    "\n",
    "  print(\"Error\")\n",
    "  # View error\n",
    "  _, stdo, stde = ssh_client.exec_command(f\"cat *.e{job_id}\")\n",
    "  print(stdo.read().decode())\n",
    "  print(stde.read().decode())\n",
    "\n",
    "\n",
    "  sftp_client.close()\n",
    "  ssh_client.close()\n",
    "  transport.close()\n",
    "\n",
    "# Attach the function to the button click event\n",
    "submit_button.on_click(on_submit_button_click)"
   ]
  },
  {
   "cell_type": "code",
   "execution_count": null,
   "metadata": {},
   "outputs": [],
   "source": []
  }
 ],
 "metadata": {
  "colab": {
   "provenance": []
  },
  "kernelspec": {
   "display_name": "Python 3 (ipykernel)",
   "language": "python",
   "name": "python3"
  },
  "language_info": {
   "codemirror_mode": {
    "name": "ipython",
    "version": 3
   },
   "file_extension": ".py",
   "mimetype": "text/x-python",
   "name": "python",
   "nbconvert_exporter": "python",
   "pygments_lexer": "ipython3",
   "version": "3.11.6"
  }
 },
 "nbformat": 4,
 "nbformat_minor": 4
}
