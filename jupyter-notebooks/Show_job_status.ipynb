{
 "cells": [
  {
   "cell_type": "code",
   "execution_count": 24,
   "metadata": {
    "colab": {
     "base_uri": "https://localhost:8080/",
     "height": 119
    },
    "id": "buXBbS2oBNCd",
    "outputId": "01b1150d-9899-4a90-c0ca-6e72b67df18f"
   },
   "outputs": [
    {
     "name": "stdout",
     "output_type": "stream",
     "text": [
      "no stored variable or alias pkey\n"
     ]
    },
    {
     "data": {
      "application/vnd.jupyter.widget-view+json": {
       "model_id": "6ec86bdfc6b34ce599afc7e8698c3e99",
       "version_major": 2,
       "version_minor": 0
      },
      "text/plain": [
       "Accordion(children=(VBox(children=(Text(value='cc-login.campuscluster.illinois.edu', description='Cluster:'), …"
      ]
     },
     "metadata": {},
     "output_type": "display_data"
    },
    {
     "data": {
      "application/vnd.jupyter.widget-view+json": {
       "model_id": "df9349379dde4d9387862eb16681eeff",
       "version_major": 2,
       "version_minor": 0
      },
      "text/plain": [
       "Accordion(children=(VBox(children=(Button(description='Validate', style=ButtonStyle()),)),), titles=('Validate…"
      ]
     },
     "metadata": {},
     "output_type": "display_data"
    },
    {
     "data": {
      "application/vnd.jupyter.widget-view+json": {
       "model_id": "0882b844b5934baabe4f1474c3e61d3b",
       "version_major": 2,
       "version_minor": 0
      },
      "text/plain": [
       "Output()"
      ]
     },
     "metadata": {},
     "output_type": "display_data"
    }
   ],
   "source": [
    "# @title Show job status\n",
    "#!pip install paramiko\n",
    "\n",
    "import ipywidgets as widgets\n",
    "from IPython.display import HTML, display, Javascript\n",
    "import getpass\n",
    "import paramiko\n",
    "import stat\n",
    "import os\n",
    "import time as timer\n",
    "import subprocess\n",
    "from urllib.parse import parse_qs\n",
    "import sys\n",
    "from urllib.parse import urlparse, parse_qs\n",
    "import requests\n",
    "%run \"Ed2_helpers.ipynb\"\n",
    "\n",
    "hostname =\"\"\n",
    "username =\"\"\n",
    "job_id =\"\"\n",
    "pkey = \"\"\n",
    "remote_output_folder = \"\"\n",
    "%store -r hostname\n",
    "%store -r username\n",
    "%store -r job_id\n",
    "%store -r pkey\n",
    "%store -r remote_output_folder\n",
    "\n",
    "cluster_input = widgets.Text(value=hostname, description=\"Cluster:\")\n",
    "username_input = widgets.Text(value=username, description=\"User name:\")\n",
    "user_password = widgets.Password(placeholder='Enter password',\n",
    "    description='Password:',\n",
    "    disabled=False\n",
    ")\n",
    "user_pkey = widgets.Text(value=pkey, placeholder='Enter path to private key',\n",
    "    description='Private key:',\n",
    "    disabled=False\n",
    ")\n",
    "job_id_input = widgets.Text(value=job_id, description=\"Enter job id:\")\n",
    "output_folder_input = widgets.Text(value=remote_output_folder, description=\"Enter output folder path:\")\n",
    "\n",
    "input_accordion = widgets.Accordion(children=[widgets.VBox([cluster_input, username_input, user_password, user_pkey, job_id_input, output_folder_input])])\n",
    "input_accordion.set_title(0, 'Enter details to see job status/output')\n",
    "display(input_accordion)\n",
    "## Validate user inputs\n",
    "validate_button = widgets.Button(description=\"Validate\")\n",
    "validate_button.on_click(on_validate_button_click2)\n",
    "\n",
    "validate_accordion = widgets.Accordion(children=[widgets.VBox([validate_button])])\n",
    "validate_accordion.set_title(0, 'Validate')\n",
    "display(validate_accordion)\n",
    "display(output)"
   ]
  },
  {
   "cell_type": "code",
   "execution_count": 25,
   "metadata": {},
   "outputs": [],
   "source": [
    "showJobStatus()"
   ]
  },
  {
   "cell_type": "code",
   "execution_count": null,
   "metadata": {
    "collapsed": true,
    "jupyter": {
     "outputs_hidden": true
    }
   },
   "outputs": [],
   "source": []
  }
 ],
 "metadata": {
  "colab": {
   "provenance": []
  },
  "kernelspec": {
   "display_name": "Python 3 (ipykernel)",
   "language": "python",
   "name": "python3"
  },
  "language_info": {
   "codemirror_mode": {
    "name": "ipython",
    "version": 3
   },
   "file_extension": ".py",
   "mimetype": "text/x-python",
   "name": "python",
   "nbconvert_exporter": "python",
   "pygments_lexer": "ipython3",
   "version": "3.11.6"
  }
 },
 "nbformat": 4,
 "nbformat_minor": 4
}
