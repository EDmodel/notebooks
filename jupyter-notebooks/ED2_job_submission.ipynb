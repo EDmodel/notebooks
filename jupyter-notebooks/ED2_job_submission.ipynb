{
 "cells": [
  {
   "cell_type": "markdown",
   "id": "4717568b-e576-41d1-b248-86ce0bd95249",
   "metadata": {
    "id": "F2yCBPShN4_H"
   },
   "source": [
    "# ED2 Jobs\n"
   ]
  },
  {
   "cell_type": "markdown",
   "id": "c2553d05-0795-48eb-9b96-01fb6edf26dc",
   "metadata": {
    "id": "KQg3Z2PfOZSb"
   },
   "source": [
    "## Background\n",
    "\n",
    "The Ecosystem Demography Biosphere Model (ED2) is an integrated terrestrial biosphere model incorporating hydrology, land-surface biophysics, vegetation dynamics, and soil carbon and nitrogen biogeochemistry (Longo et al. 2019;Medvigy et al., 2009). Like its predecessor, ED (Moorcroft et al., 2001), ED2 uses a set of size- and age-structured partial differential equations that track the changing structure and composition of the plant canopy. With the ED2 model, in contrast to conventional biosphere models in which ecosystems with climatological grid cells are represented in a highly aggregated manner, the state of the aboveground ecosystem is described by the density of trees of different sizes and how this varies across horizontal space for a series of plant functional types. For more details, please go [here](https://github.com/EDmodel/*ED2*)."
   ]
  },
  {
   "cell_type": "markdown",
   "id": "fa5f7be1-7aad-4595-aff4-9bfa91f194a3",
   "metadata": {
    "id": "HjCnosfaFWET"
   },
   "source": [
    "## Run ED2 jobs on HPC cluster\n",
    "\n",
    "This notebook run ED2 jobs on HPC clusters. You can submit jobs for tonzi, harvest, umbs and santarem. We also have the ed binary sitting inside this docker container. So, feel free to run the job on localhost too."
   ]
  },
  {
   "cell_type": "markdown",
   "id": "f10c7440-ca7e-4065-b171-59911ae5e240",
   "metadata": {
    "id": "e4q84xQVQQ5q"
   },
   "source": [
    "## Prerequisites\n",
    "The following modules/imports are necessary to run this notebook. The pip modules 'paramiko' and 'ipywidgets' are already installed in this docker container."
   ]
  },
  {
   "cell_type": "code",
   "execution_count": 23,
   "id": "f454aba7-22a4-4c13-bc30-5aa50981c779",
   "metadata": {},
   "outputs": [],
   "source": [
    "from IPython.display import display, Javascript\n",
    "from pydrive.auth import GoogleAuth\n",
    "from pydrive.drive import GoogleDrive\n",
    "import ipywidgets as widgets\n",
    "import json\n",
    "from IPython.display import display\n",
    "import getpass\n",
    "import paramiko\n",
    "import stat\n",
    "import os\n",
    "import resource\n",
    "import time as timer\n",
    "import subprocess\n",
    "from urllib.parse import urlencode\n",
    "import IPython\n",
    "import random\n",
    "#from ED2_helpers import *\n",
    "\n",
    "%run \"Ed2_helpers.ipynb\""
   ]
  },
  {
   "cell_type": "markdown",
   "id": "9b6eb463-fb8a-44b5-9102-61d38eb0daa7",
   "metadata": {},
   "source": [
    "## Generating the Cluster Configuration File\n",
    "This segment generates the \"cluster.json\" file, which holds information about each HPC cluster. Initially, a sample file with details of known clusters is created for first-time users. You're welcome to adjust the list as needed."
   ]
  },
  {
   "cell_type": "code",
   "execution_count": 24,
   "id": "10345629-cb54-48e8-a2a8-62976d25b78e",
   "metadata": {},
   "outputs": [],
   "source": [
    "# Define the file path\n",
    "file_path = \"clusters.json\"\n",
    "\n",
    "# Check if the file already exists\n",
    "if not os.path.exists(file_path):\n",
    "    # File does not exist, so create it\n",
    "    with open(file_path, \"w\") as f:\n",
    "        # Write some initial content if neededs\n",
    "        f.write('''\n",
    "{\n",
    "  \"clusters\": [\n",
    "    {\"hostname\": \"localhost\", \"batch_jobs\":[], \"queues\":[], \"modules_to_load\": \"\", \"pre_run_command\": \"\", \"apptainer_binary_command\": \"\", \"post_run_command\": \"\"},\n",
    "    {\"hostname\": \"cc-login.campuscluster.illinois.edu\", \"batch_jobs\": [\"slurm\"], \"queues\" : [\"secondary\", \"IllinoisComputes\", \"IllinoisComputes-GPU\"], \"modules_to_load\": \"singularity\", \"pre_run_command\": \"\", \"apptainer_binary_command\": \"singularity exec\", \"post_run_command\": \"\"},\n",
    "    {\"hostname\": \"login2.stampede2.tacc.utexas.edu\", \"batch_jobs\": [\"slurm\", \"Kubernetes scheduler\", \"LSF\"], \"queues\" : [\"development\", \"normal\",\"skx-normal\", \"skx-large\", \"icx-normal\", \"skx-dev\"], \"modules_to_load\": \"tacc-apptainer\", \"pre_run_command\": \"\", \"apptainer_binary_command\": \"singularity exec\", \"post_run_command\": \"\"},\n",
    "    {\"hostname\": \"login.delta.ncsa.illinois.edu\", \"batch_jobs\": [\"slurm\"], \"queues\" : [\"cpu\", \"cpu-interactive\",\"cpu-preempt\"], \"modules_to_load\": \"\", \"pre_run_command\": \"ulimit -s unlimited\", \"apptainer_binary_command\": \"apptainer run\", \"post_run_command\": \"\"}\n",
    "  ]\n",
    "}\n",
    "''')"
   ]
  },
  {
   "cell_type": "markdown",
   "id": "3470089d-dcea-43b3-8220-5e8e32fb6319",
   "metadata": {},
   "source": [
    "## UI component for HPC details"
   ]
  },
  {
   "cell_type": "code",
   "execution_count": 25,
   "id": "5b528754-8c70-424c-84c9-ee288eef672e",
   "metadata": {},
   "outputs": [
    {
     "data": {
      "application/vnd.jupyter.widget-view+json": {
       "model_id": "d8ad019610df4c79b8b264db799902a7",
       "version_major": 2,
       "version_minor": 0
      },
      "text/plain": [
       "Accordion(children=(VBox(children=(Dropdown(description='Cluster:', options=(('cc-login.campuscluster.illinois…"
      ]
     },
     "metadata": {},
     "output_type": "display_data"
    }
   ],
   "source": [
    "with open('clusters.json', 'r') as json_file:\n",
    "    clusters_data = json.load(json_file)\n",
    "    cluster_options = [(cluster[\"hostname\"], cluster[\"hostname\"]) for cluster in clusters_data[\"clusters\"]]\n",
    "\n",
    "# Create a dictionary to store batch job options for each cluster\n",
    "batch_jobs_dict = {cluster[\"hostname\"]: cluster[\"batch_jobs\"] for cluster in clusters_data[\"clusters\"]}\n",
    "\n",
    "# Create a dictionary to store batch job options for each cluster\n",
    "queues_dict = {cluster[\"hostname\"]: cluster[\"queues\"] for cluster in clusters_data[\"clusters\"]}\n",
    "cluster_input = widgets.Dropdown(options=cluster_options, description=\"Cluster:\")\n",
    "\n",
    "username_input = widgets.Text(description=\"User name:\")\n",
    "user_password = widgets.Password(placeholder='Enter password',\n",
    "    description='Password:',\n",
    "    disabled=False\n",
    ")\n",
    "user_pkey = widgets.Password(placeholder='Enter path to private key',\n",
    "    description='Private key path:',\n",
    "    disabled=False\n",
    ")\n",
    "user_acc = widgets.Text(value=\"campusclusterusers\", description=\"Account:\")\n",
    "batch_job_input = widgets.Dropdown(description=\"Batch job:\")\n",
    "queue_input = widgets.Combobox(\n",
    "    placeholder='',\n",
    "    options=[],\n",
    "    ensure_option=True,  # True: restrict input to options; False: allow any input\n",
    "    disabled=False\n",
    ")\n",
    "queue = widgets.HBox([widgets.Label(value=\"Queue name:\"), queue_input])\n",
    "\n",
    "# Set initial options for batch_job_input based on the first cluster\n",
    "initial_cluster = cluster_options[0][0]\n",
    "batch_job_input.options = batch_jobs_dict.get(initial_cluster, [])\n",
    "queue_input.options = queues_dict.get(initial_cluster, [])\n",
    "\n",
    "ed_binary_singularity_input = widgets.HBox([widgets.Label(value=\"Path to binary/singularity:\"), widgets.Text(description=\"\", value=\"${HOME}/ed2.sif\") ])\n",
    "job_name_input = widgets.Text(value=\"ED2IN\", description=\"Job name:\")\n",
    "num_nodes_input = widgets.IntText(value=1, description=\"No of nodes:\")\n",
    "runtime_input = widgets.Text(value=\"00:15:00\", description=\"Runtime:\")\n",
    "\n",
    "hpc_accordion = widgets.Accordion(children=[widgets.VBox([cluster_input, username_input, user_password, user_pkey, user_acc, batch_job_input, queue, ed_binary_singularity_input, job_name_input, num_nodes_input, runtime_input])])\n",
    "hpc_accordion.set_title(0, 'HPC Parameters')\n",
    "display(hpc_accordion)"
   ]
  },
  {
   "cell_type": "markdown",
   "id": "26603a95-92f7-4b6b-8f91-99af027db655",
   "metadata": {},
   "source": [
    "## UI component for ED path parameters"
   ]
  },
  {
   "cell_type": "code",
   "execution_count": 26,
   "id": "59b63320-8466-418b-9458-83fdeb12fce5",
   "metadata": {},
   "outputs": [
    {
     "data": {
      "application/vnd.jupyter.widget-view+json": {
       "model_id": "d12850cf8cf3464ba96698763a821a87",
       "version_major": 2,
       "version_minor": 0
      },
      "text/plain": [
       "Accordion(children=(VBox(children=(Text(value='ED2IN-umbs.bg', description='ED2IN path:'), Text(value='${HOME}…"
      ]
     },
     "metadata": {},
     "output_type": "display_data"
    }
   ],
   "source": [
    "work_folder_input = widgets.Text(placeholder=\"$HOME/ed/UUID\", value=\"${HOME}/ed-demo\", description=\"Work folder:\")\n",
    "ED2IN_path_input = widgets.Text(description=\"ED2IN path:\", value=\"ED2IN-umbs.bg\")\n",
    "header_file_input = widgets.Text(description=\"Header file path:\", value=\"$HOME/ED-2.2_StartKit/ED2_InputData/SiteData/Santarem_Km83/MeteoDriver/Santarem_Km83_HEADER\")\n",
    "ed_path_accordion = widgets.Accordion(children=[widgets.VBox([ED2IN_path_input, work_folder_input, header_file_input])])\n",
    "ed_path_accordion.set_title(0, 'ED Path Parameters')\n",
    "display(ed_path_accordion)"
   ]
  },
  {
   "cell_type": "markdown",
   "id": "44b3614b-df1e-40ee-abb2-5b91cb2b4835",
   "metadata": {},
   "source": [
    "## UI component for ED variables parameters"
   ]
  },
  {
   "cell_type": "code",
   "execution_count": 27,
   "id": "4e6cfd9b-eff9-4b67-bb6d-c8df817f1722",
   "metadata": {},
   "outputs": [
    {
     "data": {
      "application/vnd.jupyter.widget-view+json": {
       "model_id": "af400b728c894f55971afd9ce368d213",
       "version_major": 2,
       "version_minor": 0
      },
      "text/plain": [
       "Accordion(children=(VBox(children=(Text(value='', description='MET driver:'), VBox(children=(HBox(children=(Dr…"
      ]
     },
     "metadata": {},
     "output_type": "display_data"
    }
   ],
   "source": [
    "met_driver_input = widgets.Text(value=\"\", description=\"MET driver:\")\n",
    "var_options = ['NL%FFILOUT', 'NL%SFILOUT', 'NL%GFILOUT', 'NL%SFILIN', 'NL%VEG_DATABASE', 'NL%SOIL_DATABASE', 'NL%LU_DATABASE', 'NL%THSUMS_DATABASE', 'NL%ED_MET_DRIVER_DB', 'NL%SOILSTATE_DB', 'NL%SOILDEPTH_DB']\n",
    "# Create the \"+\" button\n",
    "add_button = widgets.Button(description=\"Add more variable\")\n",
    "add_button.on_click(add_dropdown)\n",
    "\n",
    "# Create the \"-\" button to remove dropdowns\n",
    "remove_button = widgets.Button(description=\"Remove variable\")\n",
    "remove_button.on_click(remove_dropdown)\n",
    "\n",
    "# Create the initial dropdown widget\n",
    "initial_dropdown = create_dropdown()\n",
    "\n",
    "# Create a container to hold all dropdowns\n",
    "var_dropdowns = widgets.VBox([initial_dropdown])\n",
    "\n",
    "\n",
    "ed_vars_accordion = widgets.Accordion(children=[widgets.VBox([met_driver_input, var_dropdowns, widgets.HBox([add_button, remove_button])])])\n",
    "ed_vars_accordion.set_title(0, 'ED Vars')\n",
    "display(ed_vars_accordion)"
   ]
  },
  {
   "cell_type": "code",
   "execution_count": 28,
   "id": "fd0affdf-5a95-41ac-bd55-cd9c9b48f207",
   "metadata": {},
   "outputs": [],
   "source": [
    "## UI component for Submit button"
   ]
  },
  {
   "cell_type": "code",
   "execution_count": 29,
   "id": "aac7e643-59a0-4bf0-855b-8b56b77fb731",
   "metadata": {},
   "outputs": [
    {
     "data": {
      "application/vnd.jupyter.widget-view+json": {
       "model_id": "ca484180993a439da1dd4afdb2edfecf",
       "version_major": 2,
       "version_minor": 0
      },
      "text/plain": [
       "Accordion(children=(VBox(children=(Button(description='Submit Job', style=ButtonStyle()),)),), titles=('Submit…"
      ]
     },
     "metadata": {},
     "output_type": "display_data"
    },
    {
     "data": {
      "application/vnd.jupyter.widget-view+json": {
       "model_id": "51355037370041e391cb1945f5b6b9ce",
       "version_major": 2,
       "version_minor": 0
      },
      "text/plain": [
       "Output()"
      ]
     },
     "metadata": {},
     "output_type": "display_data"
    }
   ],
   "source": [
    "submit_button = widgets.Button(description=\"Submit Job\")\n",
    "submit_button.on_click(on_submit_button_click)\n",
    "\n",
    "submit_job_accordion = widgets.Accordion(children=[widgets.VBox([submit_button])])\n",
    "submit_job_accordion.set_title(0, 'Submit Job')\n",
    "display(submit_job_accordion)\n",
    "#display(input)\n",
    "display(output)"
   ]
  },
  {
   "cell_type": "code",
   "execution_count": 30,
   "id": "383c3f7a-042a-4c4b-b461-b3393b0341b9",
   "metadata": {},
   "outputs": [],
   "source": [
    "## UI component for Next button"
   ]
  },
  {
   "cell_type": "code",
   "execution_count": 31,
   "id": "b4009bd3-daca-4aad-96f9-3e1c4b21a041",
   "metadata": {},
   "outputs": [
    {
     "data": {
      "application/vnd.jupyter.widget-view+json": {
       "model_id": "af7962cc10d3478e866697e59b58e6fd",
       "version_major": 2,
       "version_minor": 0
      },
      "text/plain": [
       "Accordion(children=(VBox(children=(Button(description='Next', style=ButtonStyle()),)),), titles=('See Job stat…"
      ]
     },
     "metadata": {},
     "output_type": "display_data"
    }
   ],
   "source": [
    "next_button = widgets.Button(description=\"Next\")\n",
    "next_button.on_click(redirect_to_notebook)\n",
    "\n",
    "next_job_accordion = widgets.Accordion(children=[widgets.VBox([next_button])])\n",
    "next_job_accordion.set_title(0, 'See Job status')\n",
    "display(next_job_accordion)"
   ]
  },
  {
   "cell_type": "code",
   "execution_count": null,
   "id": "4f45e1a5-38cd-465c-b07a-c8ee4bed08bc",
   "metadata": {},
   "outputs": [],
   "source": []
  }
 ],
 "metadata": {
  "kernelspec": {
   "display_name": "Python 3 (ipykernel)",
   "language": "python",
   "name": "python3"
  },
  "language_info": {
   "codemirror_mode": {
    "name": "ipython",
    "version": 3
   },
   "file_extension": ".py",
   "mimetype": "text/x-python",
   "name": "python",
   "nbconvert_exporter": "python",
   "pygments_lexer": "ipython3",
   "version": "3.11.6"
  }
 },
 "nbformat": 4,
 "nbformat_minor": 5
}
