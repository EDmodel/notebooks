{
 "cells": [
  {
   "cell_type": "markdown",
   "id": "4717568b-e576-41d1-b248-86ce0bd95249",
   "metadata": {
    "id": "F2yCBPShN4_H"
   },
   "source": [
    "# ED2 Jobs\n"
   ]
  },
  {
   "cell_type": "markdown",
   "id": "c2553d05-0795-48eb-9b96-01fb6edf26dc",
   "metadata": {
    "id": "KQg3Z2PfOZSb"
   },
   "source": [
    "## Background\n",
    "\n",
    "The Ecosystem Demography Biosphere Model (ED2) is an integrated terrestrial biosphere model incorporating hydrology, land-surface biophysics, vegetation dynamics, and soil carbon and nitrogen biogeochemistry (Longo et al. 2019;Medvigy et al., 2009). Like its predecessor, ED (Moorcroft et al., 2001), ED2 uses a set of size- and age-structured partial differential equations that track the changing structure and composition of the plant canopy. With the ED2 model, in contrast to conventional biosphere models in which ecosystems with climatological grid cells are represented in a highly aggregated manner, the state of the aboveground ecosystem is described by the density of trees of different sizes and how this varies across horizontal space for a series of plant functional types. For more details, please go [here](https://github.com/EDmodel/*ED2*)."
   ]
  },
  {
   "cell_type": "markdown",
   "id": "fa5f7be1-7aad-4595-aff4-9bfa91f194a3",
   "metadata": {
    "id": "HjCnosfaFWET"
   },
   "source": [
    "## Run ED2 jobs on HPC cluster\n",
    "\n",
    "This notebook run ED2 jobs on HPC clusters or locally. We also have the ed binary sitting inside this docker container as well as the data for running tonzi, harvest, umbs. So, feel free to run the job on localhost too."
   ]
  },
  {
   "cell_type": "markdown",
   "id": "f10c7440-ca7e-4065-b171-59911ae5e240",
   "metadata": {
    "id": "e4q84xQVQQ5q"
   },
   "source": [
    "## Prerequisites\n",
    "The following modules/imports are necessary to run this notebook. The pip modules 'paramiko' and 'ipywidgets' are already installed in this docker container."
   ]
  },
  {
   "cell_type": "code",
   "execution_count": 14,
   "id": "f454aba7-22a4-4c13-bc30-5aa50981c779",
   "metadata": {},
   "outputs": [],
   "source": [
    "from IPython.display import display, Javascript\n",
    "from pydrive.auth import GoogleAuth\n",
    "from pydrive.drive import GoogleDrive\n",
    "import ipywidgets as widgets\n",
    "import json\n",
    "from IPython.display import display\n",
    "import getpass\n",
    "import paramiko\n",
    "import stat\n",
    "import os\n",
    "import resource\n",
    "import time as timer\n",
    "import subprocess\n",
    "from urllib.parse import urlencode\n",
    "import IPython\n",
    "import random\n",
    "\n",
    "%run \"Ed2_helpers.ipynb\""
   ]
  },
  {
   "cell_type": "markdown",
   "id": "9b6eb463-fb8a-44b5-9102-61d38eb0daa7",
   "metadata": {},
   "source": [
    "## Generating the Cluster Configuration File\n",
    "This segment generates the \"cluster.json\" file, which holds information about each HPC cluster. Initially, a sample file with details of known clusters is created for first-time users. You're welcome to adjust the list as needed.\n",
    "TODO - explain the clustor.json file"
   ]
  },
  {
   "cell_type": "code",
   "execution_count": 15,
   "id": "10345629-cb54-48e8-a2a8-62976d25b78e",
   "metadata": {},
   "outputs": [],
   "source": [
    "# Define the file path\n",
    "file_path = \"clusters.json\"\n",
    "\n",
    "# Check if the file already exists\n",
    "if not os.path.exists(file_path):\n",
    "    # File does not exist, so create it\n",
    "    with open(file_path, \"w\") as f:\n",
    "        # Write some initial content if neededs\n",
    "        f.write('''\n",
    "{\n",
    "  \"clusters\": [\n",
    "    {\"hostname\": \"localhost\", \"batch_jobs\":[], \"queues\":[], \"modules_to_load\": \"\", \"pre_run_command\": \"\", \"apptainer_binary_command\": \"\", \"post_run_command\": \"\"},\n",
    "    {\"hostname\": \"cc-login.campuscluster.illinois.edu\", \"batch_jobs\": [\"slurm\"], \"queues\" : [\"secondary\", \"IllinoisComputes\", \"IllinoisComputes-GPU\"], \"modules_to_load\": \"singularity\", \"pre_run_command\": \"\", \"apptainer_binary_command\": \"singularity exec\", \"post_run_command\": \"\"},\n",
    "    {\"hostname\": \"login2.stampede2.tacc.utexas.edu\", \"batch_jobs\": [\"slurm\", \"Kubernetes scheduler\", \"LSF\"], \"queues\" : [\"development\", \"normal\",\"skx-normal\", \"skx-large\", \"icx-normal\", \"skx-dev\"], \"modules_to_load\": \"tacc-apptainer\", \"pre_run_command\": \"\", \"apptainer_binary_command\": \"singularity exec\", \"post_run_command\": \"\"},\n",
    "    {\"hostname\": \"login.delta.ncsa.illinois.edu\", \"batch_jobs\": [\"slurm\"], \"queues\" : [\"cpu\", \"cpu-interactive\",\"cpu-preempt\"], \"modules_to_load\": \"\", \"pre_run_command\": \"ulimit -s unlimited\", \"apptainer_binary_command\": \"apptainer run\", \"post_run_command\": \"\"}\n",
    "  ]\n",
    "}\n",
    "''')"
   ]
  },
  {
   "cell_type": "markdown",
   "id": "3470089d-dcea-43b3-8220-5e8e32fb6319",
   "metadata": {},
   "source": [
    "## UI component"
   ]
  },
  {
   "cell_type": "code",
   "execution_count": 16,
   "id": "5b528754-8c70-424c-84c9-ee288eef672e",
   "metadata": {},
   "outputs": [
    {
     "data": {
      "application/vnd.jupyter.widget-view+json": {
       "model_id": "12e1e6dea39f458cb5af4e55fdac3374",
       "version_major": 2,
       "version_minor": 0
      },
      "text/plain": [
       "Accordion(children=(VBox(children=(Dropdown(description='Cluster:', options=(('cc-login.campuscluster.illinois…"
      ]
     },
     "metadata": {},
     "output_type": "display_data"
    },
    {
     "data": {
      "application/vnd.jupyter.widget-view+json": {
       "model_id": "db205540c2314ab9a6d0c4cfaaa725bb",
       "version_major": 2,
       "version_minor": 0
      },
      "text/plain": [
       "Accordion(children=(VBox(children=(Text(value='ED2IN-umbs.bg', description='ED2IN path:'), Text(value='${HOME}…"
      ]
     },
     "metadata": {},
     "output_type": "display_data"
    },
    {
     "data": {
      "application/vnd.jupyter.widget-view+json": {
       "model_id": "332390ef4c4d4f54b3145fcfbee7825a",
       "version_major": 2,
       "version_minor": 0
      },
      "text/plain": [
       "Accordion(children=(VBox(children=(Text(value='', description='MET driver:'), VBox(children=(HBox(children=(Dr…"
      ]
     },
     "metadata": {},
     "output_type": "display_data"
    },
    {
     "data": {
      "application/vnd.jupyter.widget-view+json": {
       "model_id": "f5ef27dd133442f2bb55a04469a9825b",
       "version_major": 2,
       "version_minor": 0
      },
      "text/plain": [
       "Accordion(children=(VBox(children=(Button(description='Validate', style=ButtonStyle()),)),), titles=('Validate…"
      ]
     },
     "metadata": {},
     "output_type": "display_data"
    },
    {
     "data": {
      "application/vnd.jupyter.widget-view+json": {
       "model_id": "09595ddd44c24122ba9c05cb1df46c10",
       "version_major": 2,
       "version_minor": 0
      },
      "text/plain": [
       "Output()"
      ]
     },
     "metadata": {},
     "output_type": "display_data"
    }
   ],
   "source": [
    "## HPC details\n",
    "with open('clusters.json', 'r') as json_file:\n",
    "    clusters_data = json.load(json_file)\n",
    "    cluster_options = [(cluster[\"hostname\"], cluster[\"hostname\"]) for cluster in clusters_data[\"clusters\"]]\n",
    "\n",
    "# Create a dictionary to store batch job options for each cluster\n",
    "batch_jobs_dict = {cluster[\"hostname\"]: cluster[\"batch_jobs\"] for cluster in clusters_data[\"clusters\"]}\n",
    "\n",
    "# Create a dictionary to store batch job options for each cluster\n",
    "queues_dict = {cluster[\"hostname\"]: cluster[\"queues\"] for cluster in clusters_data[\"clusters\"]}\n",
    "cluster_input = widgets.Dropdown(options=cluster_options, description=\"Cluster:\")\n",
    "# Attach the callback function to the value attribute of the cluster dropdown\n",
    "cluster_input.observe(handle_cluster_change, names='value')\n",
    "\n",
    "username_input = widgets.Text(description=\"User name:\")\n",
    "user_password = widgets.Password(placeholder='Enter password',\n",
    "    description='Password:',\n",
    "    disabled=False\n",
    ")\n",
    "user_pkey = widgets.Password(placeholder='Enter path to private key',\n",
    "    description='Private key path:',\n",
    "    disabled=False\n",
    ")\n",
    "user_acc = widgets.Text(value=\"campusclusterusers\", description=\"Account:\")\n",
    "batch_job_input = widgets.Dropdown(description=\"Batch job:\")\n",
    "queue_input = widgets.Combobox(\n",
    "    placeholder='',\n",
    "    options=[],\n",
    "    ensure_option=True,  # True: restrict input to options; False: allow any input\n",
    "    disabled=False\n",
    ")\n",
    "queue = widgets.HBox([widgets.Label(value=\"Queue name:\"), queue_input])\n",
    "\n",
    "# Set initial options for batch_job_input based on the first cluster\n",
    "initial_cluster = cluster_options[0][0]\n",
    "batch_job_input.options = batch_jobs_dict.get(initial_cluster, [])\n",
    "queue_input.options = queues_dict.get(initial_cluster, [])\n",
    "\n",
    "ed_binary_singularity_input = widgets.HBox([widgets.Label(value=\"Path to binary/singularity:\"), widgets.Text(description=\"\", value=\"${HOME}/ed2.sif\") ])\n",
    "job_name_input = widgets.Text(value=\"ED2IN\", description=\"Job name:\")\n",
    "num_nodes_input = widgets.IntText(value=1, description=\"No of nodes:\")\n",
    "runtime_input = widgets.Text(value=\"00:15:00\", description=\"Runtime:\")\n",
    "\n",
    "hpc_accordion = widgets.Accordion(children=[widgets.VBox([cluster_input, username_input, user_password, user_pkey, user_acc, batch_job_input, queue, ed_binary_singularity_input, job_name_input, num_nodes_input, runtime_input])])\n",
    "hpc_accordion.set_title(0, 'HPC Parameters')\n",
    "display(hpc_accordion)\n",
    "\n",
    "## ED path parameters\n",
    "work_folder_input = widgets.Text(placeholder=\"$HOME/ed/UUID\", value=\"${HOME}/ed-demo\", description=\"Work folder:\")\n",
    "ED2IN_path_input = widgets.Text(description=\"ED2IN path:\", value=\"ED2IN-umbs.bg\")\n",
    "header_file_input = widgets.Text(description=\"Header file path:\", value=\"$HOME/ED-2.2_StartKit/ED2_InputData/SiteData/Santarem_Km83/MeteoDriver/Santarem_Km83_HEADER\")\n",
    "ed_path_accordion = widgets.Accordion(children=[widgets.VBox([ED2IN_path_input, work_folder_input, header_file_input])])\n",
    "ed_path_accordion.set_title(0, 'ED Path Parameters')\n",
    "display(ed_path_accordion)\n",
    "\n",
    "## ED variables\n",
    "met_driver_input = widgets.Text(value=\"\", description=\"MET driver:\")\n",
    "var_options = ['NL%FFILOUT', 'NL%SFILOUT', 'NL%GFILOUT', 'NL%SFILIN', 'NL%VEG_DATABASE', 'NL%SOIL_DATABASE', 'NL%LU_DATABASE', 'NL%THSUMS_DATABASE', 'NL%ED_MET_DRIVER_DB', 'NL%SOILSTATE_DB', 'NL%SOILDEPTH_DB']\n",
    "# Create the \"+\" button\n",
    "add_button = widgets.Button(description=\"Add more variable\")\n",
    "add_button.on_click(add_dropdown)\n",
    "\n",
    "# Create the \"-\" button to remove dropdowns\n",
    "remove_button = widgets.Button(description=\"Remove variable\")\n",
    "remove_button.on_click(remove_dropdown)\n",
    "\n",
    "# Create the initial dropdown widget\n",
    "initial_dropdown = create_dropdown()\n",
    "\n",
    "# Create a container to hold all dropdowns\n",
    "var_dropdowns = widgets.VBox([initial_dropdown])\n",
    "\n",
    "\n",
    "ed_vars_accordion = widgets.Accordion(children=[widgets.VBox([met_driver_input, var_dropdowns, widgets.HBox([add_button, remove_button])])])\n",
    "ed_vars_accordion.set_title(0, 'ED Vars')\n",
    "display(ed_vars_accordion)\n",
    "\n",
    "## Validate user inputs\n",
    "validate_button = widgets.Button(description=\"Validate\")\n",
    "validate_button.on_click(on_validate_button_click)\n",
    "\n",
    "validate_accordion = widgets.Accordion(children=[widgets.VBox([validate_button])])\n",
    "validate_accordion.set_title(0, 'Validate')\n",
    "display(validate_accordion)\n",
    "display(output)"
   ]
  },
  {
   "cell_type": "markdown",
   "id": "82e58f7c-4854-4af9-a8ca-f3ee5c82efd5",
   "metadata": {},
   "source": [
    "## Run below cell to submit job"
   ]
  },
  {
   "cell_type": "code",
   "execution_count": 22,
   "id": "ab28f03c-f674-4f63-9563-bb7e775a2dbb",
   "metadata": {},
   "outputs": [],
   "source": [
    "submitJob()"
   ]
  },
  {
   "cell_type": "code",
   "execution_count": 18,
   "id": "383c3f7a-042a-4c4b-b461-b3393b0341b9",
   "metadata": {},
   "outputs": [],
   "source": [
    "## UI component for Next button to see job status"
   ]
  },
  {
   "cell_type": "code",
   "execution_count": 19,
   "id": "b4009bd3-daca-4aad-96f9-3e1c4b21a041",
   "metadata": {
    "jupyter": {
     "source_hidden": true
    }
   },
   "outputs": [
    {
     "data": {
      "application/vnd.jupyter.widget-view+json": {
       "model_id": "284dcc9ee28d4ce290ab5ef6e6d58b29",
       "version_major": 2,
       "version_minor": 0
      },
      "text/plain": [
       "Accordion(children=(VBox(children=(Button(description='Next', style=ButtonStyle()),)),), titles=('See Job stat…"
      ]
     },
     "metadata": {},
     "output_type": "display_data"
    }
   ],
   "source": [
    "next_button = widgets.Button(description=\"Next\")\n",
    "next_button.on_click(redirect_to_notebook)\n",
    "\n",
    "next_job_accordion = widgets.Accordion(children=[widgets.VBox([next_button])])\n",
    "next_job_accordion.set_title(0, 'See Job status')\n",
    "display(next_job_accordion)"
   ]
  }
 ],
 "metadata": {
  "kernelspec": {
   "display_name": "Python 3 (ipykernel)",
   "language": "python",
   "name": "python3"
  },
  "language_info": {
   "codemirror_mode": {
    "name": "ipython",
    "version": 3
   },
   "file_extension": ".py",
   "mimetype": "text/x-python",
   "name": "python",
   "nbconvert_exporter": "python",
   "pygments_lexer": "ipython3",
   "version": "3.11.6"
  }
 },
 "nbformat": 4,
 "nbformat_minor": 5
}
