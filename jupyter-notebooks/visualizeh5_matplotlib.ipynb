{
 "cells": [
  {
   "cell_type": "markdown",
   "id": "53aaf66a-e9d2-4769-a987-6bcf30bb2ae6",
   "metadata": {},
   "source": [
    "## Basic visualization of the output\n",
    "\n",
    "Here is the link(https://www.dropbox.com/scl/fo/9kxui8v4nryr24n5hfw8h/AAIRTdU6cIemXgQetlLEDi0?rlkey=2sbavktp20uduj8kgd7ndrn4n&dl=0) to script for visualization using R\n",
    "\n"
   ]
  },
  {
   "cell_type": "code",
   "execution_count": null,
   "id": "377374ab-1a8c-4b4a-9283-1f23212ac2cb",
   "metadata": {},
   "outputs": [],
   "source": [
    "conda install h5py pandas hvplot"
   ]
  },
  {
   "cell_type": "code",
   "execution_count": null,
   "id": "04023b72-0ff2-4c72-8ea2-92436dc348d3",
   "metadata": {},
   "outputs": [],
   "source": [
    "import h5py\n",
    "import matplotlib.pyplot as plt\n",
    "import numpy as np\n",
    "import ipywidgets as widgets\n",
    "from IPython.display import display\n",
    "\n",
    "def plot(file_path, dataset_name):\n",
    "    with h5py.File(file_path, 'r') as hdf_file:\n",
    "        dataset = hdf_file[dataset_name][:]\n",
    "        #dataset = dataset[dataset != 0]\n",
    "        plt.figure(figsize=(10, 6))\n",
    "        plt.plot(dataset)\n",
    "        plt.xlabel('Index')\n",
    "        plt.ylabel('Value')\n",
    "        plt.title(f'{dataset_name} Visualization')\n",
    "        plt.show()\n",
    "\n",
    "\n",
    "def plot_hdf5(file_path):\n",
    "    try:\n",
    "        with h5py.File(file_path, 'r') as hdf_file:\n",
    "            dataset_names = list(hdf_file.keys())\n",
    "            #dataset_names = [\"FMEAN_GPP_PY\"]  # Use this if you only want a specific dataset for now\n",
    "            \n",
    "            # Create a dropdown widget\n",
    "            dropdown = widgets.Dropdown(\n",
    "                options=dataset_names,\n",
    "                description='Dataset:',\n",
    "                disabled=False\n",
    "            )\n",
    "\n",
    "            # Create an output widget to display the plots\n",
    "            output = widgets.Output()\n",
    "\n",
    "            # Define the function to be called when dropdown value changes\n",
    "            def on_dropdown_change(change):\n",
    "                with output:\n",
    "                    output.clear_output()\n",
    "                    print(change.new)\n",
    "                    plot(file_path, change.new)\n",
    "                \n",
    "            # Attach the function to the dropdown's value change event\n",
    "            dropdown.observe(on_dropdown_change, names='value')\n",
    "\n",
    "            # Display the dropdown and output widgets\n",
    "            display(dropdown, output)\n",
    "\n",
    "    except Exception as e:\n",
    "        print(\"Error:\", e)\n",
    "\n",
    "# Example usage\n",
    "file_path = 'vc52/outputs/analysis-T-2000-00-00-000000-g01.h5'\n",
    "plot_hdf5(file_path)"
   ]
  },
  {
   "cell_type": "code",
   "execution_count": null,
   "id": "dc592f89-a80b-4d45-b9fe-b69647eef013",
   "metadata": {},
   "outputs": [],
   "source": []
  }
 ],
 "metadata": {
  "kernelspec": {
   "display_name": "Python 3 (ipykernel)",
   "language": "python",
   "name": "python3"
  },
  "language_info": {
   "codemirror_mode": {
    "name": "ipython",
    "version": 3
   },
   "file_extension": ".py",
   "mimetype": "text/x-python",
   "name": "python",
   "nbconvert_exporter": "python",
   "pygments_lexer": "ipython3",
   "version": "3.11.6"
  }
 },
 "nbformat": 4,
 "nbformat_minor": 5
}
