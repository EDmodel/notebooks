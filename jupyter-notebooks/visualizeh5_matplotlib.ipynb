{
 "cells": [
  {
   "cell_type": "code",
   "execution_count": null,
   "id": "377374ab-1a8c-4b4a-9283-1f23212ac2cb",
   "metadata": {},
   "outputs": [],
   "source": [
    "conda install h5py pandas hvplot"
   ]
  },
  {
   "cell_type": "code",
   "execution_count": null,
   "id": "04023b72-0ff2-4c72-8ea2-92436dc348d3",
   "metadata": {},
   "outputs": [],
   "source": [
    "import h5py\n",
    "import matplotlib.pyplot as plt\n",
    "\n",
    "def plot_hdf5(file_path):\n",
    "    try:\n",
    "        with h5py.File(file_path, 'r') as hdf_file:\n",
    "            dataset_names = list(hdf_file.keys())\n",
    "            print(\"Datasets in the HDF5 file:\")\n",
    "            #print(dataset_names)\n",
    "            dataset_name = \"CB\"\n",
    "            dataset = hdf_file[dataset_name][:]\n",
    "            # Plotting the data\n",
    "            plt.plot(dataset)\n",
    "            plt.xlabel('Index')\n",
    "            plt.ylabel('Value')\n",
    "            plt.title(f'{dataset_name} Visualization')\n",
    "            plt.show()\n",
    "    except Exception as e:\n",
    "        print(\"Error:\", e)\n",
    "\n",
    "# Example usage\n",
    "#file_path = 'wxhz/analysis-E-2000-01-00-000000-g01.h5'\n",
    "file_path = 'i92b/outputs/analysis-E-2000-01-00-000000-g01.h5'\n",
    "plot_hdf5(file_path)"
   ]
  },
  {
   "cell_type": "code",
   "execution_count": null,
   "id": "292e0cf7-9f46-4a36-a220-ee3c1ddaeb88",
   "metadata": {},
   "outputs": [],
   "source": []
  },
  {
   "cell_type": "code",
   "execution_count": null,
   "id": "dc592f89-a80b-4d45-b9fe-b69647eef013",
   "metadata": {},
   "outputs": [],
   "source": []
  }
 ],
 "metadata": {
  "kernelspec": {
   "display_name": "Python 3 (ipykernel)",
   "language": "python",
   "name": "python3"
  },
  "language_info": {
   "codemirror_mode": {
    "name": "ipython",
    "version": 3
   },
   "file_extension": ".py",
   "mimetype": "text/x-python",
   "name": "python",
   "nbconvert_exporter": "python",
   "pygments_lexer": "ipython3",
   "version": "3.11.6"
  }
 },
 "nbformat": 4,
 "nbformat_minor": 5
}
