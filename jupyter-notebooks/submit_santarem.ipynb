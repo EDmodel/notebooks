{
  "nbformat": 4,
  "nbformat_minor": 0,
  "metadata": {
    "colab": {
      "provenance": []
    },
    "kernelspec": {
      "name": "python3",
      "display_name": "Python 3"
    },
    "language_info": {
      "name": "python"
    }
  },
  "cells": [
    {
      "cell_type": "markdown",
      "source": [
        "**Run ED2 santarem job on HPC Clusters**\n"
      ],
      "metadata": {
        "id": "IhIyd63RGclK"
      }
    },
    {
      "cell_type": "code",
      "source": [
        "!pip install parsl"
      ],
      "metadata": {
        "colab": {
          "base_uri": "https://localhost:8080/"
        },
        "id": "aDmEWk-Fu6U_",
        "outputId": "1bd3cd81-9299-4923-9222-6c39c56efcfd"
      },
      "execution_count": 23,
      "outputs": [
        {
          "output_type": "stream",
          "name": "stdout",
          "text": [
            "Requirement already satisfied: parsl in /usr/local/lib/python3.10/dist-packages (2023.10.23)\n",
            "Requirement already satisfied: pyzmq>=17.1.2 in /usr/local/lib/python3.10/dist-packages (from parsl) (23.2.1)\n",
            "Requirement already satisfied: typeguard<3,>=2.10 in /usr/local/lib/python3.10/dist-packages (from parsl) (2.13.3)\n",
            "Requirement already satisfied: typing-extensions<5,>=4.6 in /usr/local/lib/python3.10/dist-packages (from parsl) (4.8.0)\n",
            "Requirement already satisfied: six in /usr/local/lib/python3.10/dist-packages (from parsl) (1.16.0)\n",
            "Requirement already satisfied: globus-sdk in /usr/local/lib/python3.10/dist-packages (from parsl) (3.30.0)\n",
            "Requirement already satisfied: dill in /usr/local/lib/python3.10/dist-packages (from parsl) (0.3.7)\n",
            "Requirement already satisfied: tblib in /usr/local/lib/python3.10/dist-packages (from parsl) (3.0.0)\n",
            "Requirement already satisfied: requests in /usr/local/lib/python3.10/dist-packages (from parsl) (2.31.0)\n",
            "Requirement already satisfied: paramiko in /usr/local/lib/python3.10/dist-packages (from parsl) (3.3.1)\n",
            "Requirement already satisfied: psutil>=5.5.1 in /usr/local/lib/python3.10/dist-packages (from parsl) (5.9.5)\n",
            "Requirement already satisfied: setproctitle in /usr/local/lib/python3.10/dist-packages (from parsl) (1.3.3)\n",
            "Requirement already satisfied: pyjwt[crypto]<3.0.0,>=2.0.0 in /usr/lib/python3/dist-packages (from globus-sdk->parsl) (2.3.0)\n",
            "Requirement already satisfied: cryptography!=3.4.0,>=3.3.1 in /usr/local/lib/python3.10/dist-packages (from globus-sdk->parsl) (41.0.5)\n",
            "Requirement already satisfied: charset-normalizer<4,>=2 in /usr/local/lib/python3.10/dist-packages (from requests->parsl) (3.3.1)\n",
            "Requirement already satisfied: idna<4,>=2.5 in /usr/local/lib/python3.10/dist-packages (from requests->parsl) (3.4)\n",
            "Requirement already satisfied: urllib3<3,>=1.21.1 in /usr/local/lib/python3.10/dist-packages (from requests->parsl) (2.0.7)\n",
            "Requirement already satisfied: certifi>=2017.4.17 in /usr/local/lib/python3.10/dist-packages (from requests->parsl) (2023.7.22)\n",
            "Requirement already satisfied: bcrypt>=3.2 in /usr/local/lib/python3.10/dist-packages (from paramiko->parsl) (4.0.1)\n",
            "Requirement already satisfied: pynacl>=1.5 in /usr/local/lib/python3.10/dist-packages (from paramiko->parsl) (1.5.0)\n",
            "Requirement already satisfied: cffi>=1.12 in /usr/local/lib/python3.10/dist-packages (from cryptography!=3.4.0,>=3.3.1->globus-sdk->parsl) (1.16.0)\n",
            "Requirement already satisfied: pycparser in /usr/local/lib/python3.10/dist-packages (from cffi>=1.12->cryptography!=3.4.0,>=3.3.1->globus-sdk->parsl) (2.21)\n"
          ]
        }
      ]
    },
    {
      "cell_type": "code",
      "source": [
        "import getpass\n",
        "import paramiko\n",
        "import stat\n",
        "import os\n",
        "from parsl.app.python import PythonApp"
      ],
      "metadata": {
        "id": "Zf3NQL6UA0sc"
      },
      "execution_count": 24,
      "outputs": []
    },
    {
      "cell_type": "markdown",
      "source": [
        "Please provide the various input to run the job. Feel free to ignore the parameters if you wish to keep the default."
      ],
      "metadata": {
        "id": "Ls5SD_e9Gv4B"
      }
    },
    {
      "cell_type": "code",
      "source": [
        "# Cluster details\n",
        "hostname = 'cc-login.campuscluster.illinois.edu' # the hostname of the cluster you want to run the ed2 model\n",
        "password = None\n",
        "username = \"ABCD\" # username on the cluster\n",
        "\n",
        "\n",
        "# Batch job details\n",
        "time = \"0:04:00\" # Job run time (hh:mm:ss)\n",
        "nodes = 1 # Number of nodes\n",
        "ntasks_per_node = 16             # Number of task (cores/ppn) per node\n",
        "job_name = \"ED2IN-santarem\"           # Name of batch job\n",
        "partition = \"secondary\"            # Partition (queue)\n",
        "output = \"openmp_santarem.o%j\"              # Name of batch job output file\n",
        "error = \"openmp_santarem.e%j\"               # Name of batch job error file\n",
        "mail_user = \"NetID@illinois.edu\"  # Send email notifications\n",
        "mail_type = \"BEGIN,END\"           # Type of email notifications to send\n",
        "\n",
        "\n",
        "# Path to various inputs\n",
        "path_to_data = \"${HOME}/ED-2.2_StartKit\" #path to data for ED2 on cluster\n",
        "path_to_singularity_image = \"${HOME}/ed2-intel.sif\" # path to singularity image of ED2 model on cluster\n",
        "path_to_ED2IN = \"Simulations/S0001_SantaremKm83_Test/ED2IN\" # path to ED2IN file on cluster"
      ],
      "metadata": {
        "id": "ArVdnJqbBoTC"
      },
      "execution_count": 37,
      "outputs": []
    },
    {
      "cell_type": "code",
      "source": [
        "# Specific path changes required in Header and ED2IN file\n",
        "\n",
        "file_path_to_header_file =\"$HOME/ED-2.2_StartKit/ED2_InputData/SiteData/Santarem_Km83/MeteoDriver/Santarem_Km83_HEADER\" # path to header file\n",
        "pattern1 = \"path_to\" #pattern to replace in header file\n",
        "new_line1 = \"ED2_InputData/SiteData/Santarem_Km83/MeteoDriver/Santarem_Km83_\" # new line to be put in header file\n",
        "\n",
        "file_path_to_ED2IN = \"$HOME/ED-2.2_StartKit/Simulations/S0001_SantaremKm83_Test/ED2IN\"\n",
        "# FFILOUT -- Path and prefix for analysis files (all but history/restart).\n",
        "NLFFILOUT = \"/data/Simulations/S0001_SantaremKm83_Test/Analy/S0001_SantaremKm83_Test\"\n",
        "# SFILOUT -- Path and prefix for history files.\n",
        "NLSFILOUT = \"/data/Simulations/S0001_SantaremKm83_Test/Analy/S0001_SantaremKm83_Test\"\n",
        "# GFILOUT  -- Prefix for the output patch table/gap files\n",
        "NLGFILOUT = \"/data/Simulations/S0001_SantaremKm83_Test/Shade/S0001_SantaremKm83_Test\"\n",
        "# SFILIN --  The meaning and the size of this variable depends on the type of run, set  !\n",
        "NLSFILIN = \"/data/ED2_InputData/SiteData/Santarem_Km83/SiteBioData/s83_nounder.\"\n",
        "NLVEG_DATABASE = \"/data/ED2_InputData/GriddedData/VegetData/OGE2/OGE2_\"\n",
        "NLSOIL_DATABASE = \"/data/ED2_InputData/GriddedData/SoilData/Texture/SoilGrids20/SoilGrids20_\"\n",
        "NLLU_DATABASE = \"/data/ED2_InputData/GriddedData/LandUse/glu-3.3.1/glu-3.3.1-\"\n",
        "NLTHSUMS_DATABASE = \"/data/ED2_InputData/GriddedData/ThermalSums/\"\n",
        "NLED_MET_DRIVER_DB = \"/data/ED2_InputData/SiteData/Santarem_Km83/MeteoDriver/Santarem_Km83_HEADER\"\n",
        "NLSOILSTATE_DB = \"/data/ED2_InputData/GriddedData/SoilData/TempMoist/STW1996OCT.dat\"\n",
        "NLSOILDEPTH_DB = \"/data/ED2_InputData/GriddedData/SoilData/Depth/Pelletier/Pelletier_\"\n",
        "\n",
        "# patterns to find and replce with new lines in ED2IN\n",
        "pattern2 = \"NL%FFILOUT\"\n",
        "new_line2 = \"NL%FFILOUT=\\\\'\" + NLFFILOUT + \"\\\\'\"\n",
        "pattern3 = \"NL%SFILOUT\"\n",
        "new_line3 = \"NL%SFILOUT=\\\\'\" + NLSFILOUT + \"\\\\'\"\n",
        "pattern4 = \"NL%GFILOUT\"\n",
        "new_line4 = \"NL%GFILOUT=\\\\'\" + NLGFILOUT + \"\\\\'\"\n",
        "pattern5 = \"NL%SFILIN\"\n",
        "new_line5 = \"NL%SFILIN=\\\\'\" + NLSFILIN + \"\\\\'\"\n",
        "pattern6 = \"NL%SFILIN\"\n",
        "new_line6 = \"NL%SFILIN=\\\\'\" + NLSFILIN + \"\\\\'\"\n",
        "pattern7=\"NL%VEG_DATABASE\"\n",
        "new_line7=\"NL%VEG_DATABASE=\\\\'\" + NLVEG_DATABASE + \"\\\\'\"\n",
        "pattern8=\"NL%SOIL_DATABASE\"\n",
        "new_line8=\"NL%SOIL_DATABASE=\\\\'\" + NLSOIL_DATABASE + \"\\\\'\"\n",
        "pattern9=\"NL%LU_DATABASE\"\n",
        "new_line9=\"NL%LU_DATABASE=\\\\'\" + NLLU_DATABASE + \"\\\\'\"\n",
        "pattern10=\"NL%THSUMS_DATABASE\"\n",
        "new_line10=\"NL%THSUMS_DATABASE=\\\\'\" + NLTHSUMS_DATABASE + \"\\\\'\"\n",
        "pattern11 =\"NL%ED_MET_DRIVER_DB\"\n",
        "new_line11 = \"NL%ED_MET_DRIVER_DB=\\\\'\" + NLED_MET_DRIVER_DB + \"\\\\'\"\n",
        "pattern12 = \"NL%ED_MET_DRIVER_DB\"\n",
        "new_line12 = \"NL%ED_MET_DRIVER_DB=\\\\'\" + NLED_MET_DRIVER_DB + \"\\\\'\"\n",
        "pattern13 = \"NL%SOILSTATE_DB\"\n",
        "new_line13 = \"NL%SOILSTATE_DB=\\\\'\" + NLSOILSTATE_DB + \"\\\\'\"\n",
        "pattern14 = \"NL%SOILDEPTH_DB\"\n",
        "new_line14 = \"NL%SOILDEPTH_DB=\\\\'\" + NLSOILDEPTH_DB + \"\\\\'\""
      ],
      "metadata": {
        "id": "ClX0zuppT1J9"
      },
      "execution_count": 34,
      "outputs": []
    },
    {
      "cell_type": "code",
      "execution_count": 36,
      "metadata": {
        "colab": {
          "base_uri": "https://localhost:8080/"
        },
        "id": "3j6LbGTUR-XB",
        "outputId": "788f2f61-b314-483d-ab8b-e2c886aee015"
      },
      "outputs": [
        {
          "output_type": "stream",
          "name": "stdout",
          "text": [
            "Enter cc-login.campuscluster.illinois.edu Logon password :··········\n",
            "Submitted batch job 9858059\n",
            "\n",
            "\n"
          ]
        }
      ],
      "source": [
        "@PythonApp\n",
        "def run_singularity(executable, singularity_image, args, stdout=None, stderr=None):\n",
        "    return f\"{executable} exec {singularity_image} {args}\"\n",
        "\n",
        "def submit_job(username):\n",
        "    ssh_client = paramiko.SSHClient()\n",
        "    ssh_client.load_system_host_keys()\n",
        "    ssh_client.set_missing_host_key_policy(paramiko.AutoAddPolicy())\n",
        "    try:\n",
        "        ssh_client.connect(hostname, username=username, password=password, allow_agent=True)\n",
        "        print(\"successfully connected\")\n",
        "    except:\n",
        "        pass\n",
        "    transport = ssh_client.get_transport()\n",
        "    # # Prompt the user for the password\n",
        "    # password = getpass.getpass(f\"Enter password: \")\n",
        "\n",
        "    # # Prompt the user for the Okta token\n",
        "    # okta_token = getpass.getpass(\"Enter Okta Token: \")\n",
        "    # combined_password = f\"{password}{okta_token}\"\n",
        "    # #transport.auth_password(username, f\"{password}{okta_token}\")\n",
        "    transport.auth_password(username, getpass.getpass('Enter {0} Logon password :'.format(hostname)))\n",
        "    sftp_client = paramiko.SFTPClient.from_transport(transport)\n",
        "\n",
        "    # Run the .bat file which is alreday present on cluster\n",
        "    #_, stdo, stde = ssh_client.exec_command(command_line)\n",
        "    #print(stdo.read().decode())\n",
        "    #print(stde.read().decode())\n",
        "\n",
        "\n",
        "    #create the bat file\n",
        "    with open(job_name + \".sbatch\", 'w') as f:\n",
        "        f.writelines(\"#!/bin/bash\\n\")\n",
        "        f.writelines(\"#SBATCH --time=\" + str(time) + \"\\n\")\n",
        "        f.writelines(\"#SBATCH --ntasks-per-node=\" + str(ntasks_per_node) + \"\\n\")\n",
        "        f.writelines(\"#SBATCH --job-name=\" + job_name + \"\\n\")\n",
        "        f.writelines(\"#SBATCH --partition=\" + partition + \"\\n\")\n",
        "        f.writelines(\"#SBATCH --output=\" + output + \"\\n\")\n",
        "        f.writelines(\"#SBATCH --error=\" + error + \"\\n\")\n",
        "        f.writelines(\"#SBATCH --mail-user=\" + mail_user + \"\\n\")\n",
        "        f.writelines(\"#SBATCH --mail-type=\" + mail_type + \"\\n\")\n",
        "        f.writelines(\"\\n\")\n",
        "        f.writelines(\"module load singularity\" + \"\\n\")\n",
        "        #f.writeline(\"sed -i '/pattern1/c$new_line1\" \"$file_path_to_header_file\"\" + \"\\n\")\n",
        "        f.writelines([f\"sed -i /{pattern1}/c{new_line1} {file_path_to_header_file}\\n\"])\n",
        "        f.writelines([f\"sed -i /{pattern2}/c{new_line2} {file_path_to_ED2IN}\\n\"])\n",
        "        f.writelines([f\"sed -i /{pattern3}/c{new_line3} {file_path_to_ED2IN}\\n\"])\n",
        "        f.writelines([f\"sed -i /{pattern4}/c{new_line4} {file_path_to_ED2IN}\\n\"])\n",
        "        f.writelines([f\"sed -i /{pattern5}/c{new_line5} {file_path_to_ED2IN}\\n\"])\n",
        "        f.writelines([f\"sed -i /{pattern6}/c{new_line6} {file_path_to_ED2IN}\\n\"])\n",
        "        f.writelines([f\"sed -i /{pattern7}/c{new_line7} {file_path_to_ED2IN}\\n\"])\n",
        "        f.writelines([f\"sed -i /{pattern8}/c{new_line8} {file_path_to_ED2IN}\\n\"])\n",
        "        f.writelines([f\"sed -i /{pattern9}/c{new_line9} {file_path_to_ED2IN}\\n\"])\n",
        "        f.writelines([f\"sed -i /{pattern10}/c{new_line10} {file_path_to_ED2IN}\\n\"])\n",
        "        f.writelines([f\"sed -i /{pattern11}/c{new_line11} {file_path_to_ED2IN}\\n\"])\n",
        "        f.writelines([f\"sed -i /{pattern12}/c{new_line12} {file_path_to_ED2IN}\\n\"])\n",
        "        f.writelines([f\"sed -i /{pattern13}/c{new_line13} {file_path_to_ED2IN}\\n\"])\n",
        "        f.writelines([f\"sed -i /{pattern14}/c{new_line14} {file_path_to_ED2IN}\\n\"])\n",
        "        f.writelines(\"singularity exec --bind \" + path_to_data + \":/data --no-home --pwd /data \" + path_to_singularity_image + \" ed2 -f \" + path_to_ED2IN)\n",
        "    f.close()\n",
        "\n",
        "    #transfer .bat file to cluster and run it\n",
        "    sftp_client.put(job_name + \".sbatch\", f\"/home/{username}/\" + job_name + \".sbatch\")\n",
        "    sftp_client.chmod(f\"/home/{username}/\" + job_name + \".sbatch\", stat.S_IRWXU)\n",
        "    _, stdo, stde = ssh_client.exec_command(\"sbatch \" + job_name + \".sbatch\")\n",
        "    print(stdo.read().decode())\n",
        "    print(stde.read().decode())\n",
        "\n",
        "    sftp_client.close()\n",
        "    ssh_client.close()\n",
        "    transport.close()\n",
        "\n",
        "submit_job(username)"
      ]
    }
  ]
}